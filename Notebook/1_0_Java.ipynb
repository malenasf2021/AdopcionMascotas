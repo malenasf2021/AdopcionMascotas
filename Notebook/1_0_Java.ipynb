{
 "cells": [
  {
   "cell_type": "markdown",
   "metadata": {},
   "source": [
    "## Comencemos\n",
    "El mensaje de error /bin/sh: 1: javac: not found indica que el compilador de Java (javac) no está instalado o no se encuentra en el PATH del sistema. \n",
    "\n",
    "### Opción 1: Instalar Java Development Kit (JDK)\n",
    "Si aún no has instalado el JDK, puedes hacerlo usando el gestor de paquetes de tu sistema. Por ejemplo, en sistemas basados en Debian como Ubuntu:\n",
    "\n",
    "sudo apt update\n",
    "\n",
    "sudo apt install openjdk-11-jdk\n",
    "\n",
    "### Opción 2: Verificar la Ubicación de javac\n",
    "Si ya has instalado el JDK pero sigues recibiendo el error, verifica si javac está en tu PATH.\n",
    "\n",
    "Abre una terminal y ejecuta:\n",
    "\n",
    "which javac\n",
    "o\n",
    "\n",
    "\n",
    "echo $PATH\n",
    "\n",
    "Si which javac no devuelve una ruta o si la ruta a javac no aparece en $PATH, necesitarás añadirlo.\n",
    "\n",
    "### Opción 3: Añadir javac al PATH\n",
    "Si javac está instalado pero no está en el PATH, puedes añadirlo de la siguiente manera:\n",
    "\n",
    "Encuentra la instalación de tu JDK. A menudo se encuentra en un directorio como /usr/lib/jvm/java-11-openjdk-amd64/bin/.\n",
    "\n",
    "Añade este directorio al PATH en tu archivo .bashrc o .zshrc (dependiendo de tu shell):\n",
    "\n",
    "export PATH=$PATH:/ruta/a/jvm/java-11-openjdk-amd64/bin\n",
    "Recarga el archivo .bashrc o .zshrc:\n",
    "\n",
    "source ~/.bashrc\n",
    "\n",
    "o\n",
    "\n",
    "source ~/.zshrc"
   ]
  }
 ],
 "metadata": {
  "language_info": {
   "name": "python"
  },
  "orig_nbformat": 4
 },
 "nbformat": 4,
 "nbformat_minor": 2
}
