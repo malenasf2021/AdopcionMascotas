{
 "cells": [
  {
   "cell_type": "markdown",
   "metadata": {},
   "source": [
    "# LinkedList en Java\n",
    "\n",
    "## Tabla de Contenidos\n",
    "1. [Introducción](#Introducción)\n",
    "2. [Requisitos Previos](#Requisitos-Previos)\n",
    "3. [LinkedList vs ArrayList](#LinkedList-vs-ArrayList)\n",
    "4. [Operaciones Básicas en LinkedList](#Operaciones-Básicas-en-LinkedList)\n",
    "5. [Ejemplo de Uso: Biblioteca](#Ejemplo-de-Uso:-Biblioteca)\n",
    "6. [Métodos Avanzados en LinkedList](#Métodos-Avanzados-en-LinkedList)\n",
    "7. [Iterar sobre LinkedList](#Iterar-sobre-LinkedList)\n",
    "8. [Preguntas](#Preguntas)\n",
    "9. [Desafios](#Desafios)\n"
   ]
  },
  {
   "cell_type": "markdown",
   "metadata": {},
   "source": [
    "## Requisitos Previos\n",
    "\n",
    "Para seguir este cuaderno, necesitará tener algunos requisitos previos instalados en su sistema:\n",
    "\n",
    "1. **Java Development Kit (JDK)**: Asegúrese de tener instalado **Java JDK 9 o superior**. Puede verificar la versión de Java con el siguiente comando en la terminal:\n",
    "    ```bash\n",
    "    java -version\n",
    "    ```\n",
    "    Si no tiene Java instalado, puede instalarlo con:\n",
    "    ```bash\n",
    "    sudo apt update\n",
    "    sudo apt install openjdk-11-jdk\n",
    "    ```\n",
    "\n",
    "2. **Entorno de Desarrollo Integrado (IDE)**: Necesitará un IDE para escribir y ejecutar código Java. Aunque Eclipse y IntelliJ son opciones populares, **recomiendo utilizar Visual Studio Code (VSCode)** debido a su simplicidad y soporte para múltiples lenguajes.\n",
    "\n",
    "3. **VSCode**: Si decide usar VSCode, asegúrese de instalar la extensión de Java para VSCode desde las extensiones para facilitar el desarrollo en Java.\n",
    "\n",
    "Siguiendo estos requisitos previos, estará preparado para aprovechar al máximo este cuaderno.\n",
    "\n"
   ]
  },
  {
   "cell_type": "markdown",
   "metadata": {},
   "source": [
    "## LinkedList vs ArrayList\n",
    "\n",
    "`LinkedList` y `ArrayList` son implementaciones de la interfaz `List` en Java, que forma parte del Java Collections Framework. Ambas clases se utilizan para almacenar elementos en un orden lineal, pero hay diferencias significativas en cómo se almacenan y acceden a estos elementos, lo que afecta al rendimiento y la aplicabilidad de cada una.\n",
    "\n",
    "### Almacenamiento Interno\n",
    "- **ArrayList**: Utiliza un array dinámico para almacenar los elementos. Cuando el array se llena, se redimensiona.\n",
    "- **LinkedList**: Utiliza una estructura de datos de doble enlace para almacenar los elementos. Cada elemento (nodo) contiene un puntero al siguiente elemento y un puntero al elemento anterior.\n",
    "\n",
    "### Rendimiento\n",
    "- **ArrayList**: Ofrece un tiempo de acceso constante \\(O(1)\\) para elementos aleatorios. Sin embargo, agregar o eliminar un elemento en cualquier posición que no sea el final toma tiempo \\(O(n)\\).\n",
    "- **LinkedList**: Ofrece un tiempo de acceso \\(O(n)\\) para elementos aleatorios. Sin embargo, agregar o eliminar un elemento toma tiempo constante \\(O(1)\\), siempre que se tenga una referencia al nodo.\n",
    "\n",
    "### Uso de Memoria\n",
    "- **ArrayList**: Usa menos memoria ya que solo almacena los elementos y el tamaño del array.\n",
    "- **LinkedList**: Usa más memoria porque cada nodo almacena dos referencias, una para el siguiente nodo y otra para el anterior, además del elemento en sí.\n",
    "\n",
    "### Casos de Uso\n",
    "- **ArrayList**: Es preferible cuando se necesitan operaciones de acceso aleatorio frecuentes.\n",
    "- **LinkedList**: Es más adecuado para aplicaciones que requieren inserciones y eliminaciones frecuentes.\n",
    "\n",
    "### Fuentes y Referencias Adicionales\n",
    "- [Oracle Java Documentation - List Interface](https://docs.oracle.com/javase/8/docs/api/java/util/List.html)\n",
    "- [Oracle Java Documentation - ArrayList Class](https://docs.oracle.com/javase/8/docs/api/java/util/ArrayList.html)\n",
    "- [Oracle Java Documentation - LinkedList Class](https://docs.oracle.com/javase/8/docs/api/java/util/LinkedList.html)\n",
    "\n",
    "Al comprender estas diferencias clave, podrá elegir la implementación de `List` más adecuada para su aplicación.\n",
    "\n"
   ]
  },
  {
   "cell_type": "markdown",
   "metadata": {},
   "source": [
    "## Código Ejemplo: Operaciones Básicas en LinkedList\n",
    "\n",
    "Ahora vamos a explorar algunas operaciones básicas que se pueden realizar con `LinkedList` en Java. Estas operaciones incluyen agregar elementos, eliminar elementos y buscar elementos en la lista.\n",
    "\n",
    "### Agregar Elementos\n",
    "\n",
    "Para agregar elementos a una `LinkedList`, utilizamos el método `add()`. Este método añade el elemento al final de la lista.\n"
   ]
  },
  {
   "cell_type": "code",
   "execution_count": 9,
   "metadata": {},
   "outputs": [
    {
     "data": {
      "text/plain": [
       "true"
      ]
     },
     "execution_count": 9,
     "metadata": {},
     "output_type": "execute_result"
    }
   ],
   "source": [
    "// Agregar Elementos\n",
    "LinkedList<String> miLista = new LinkedList<>();\n",
    "miLista.add(\"Elemento 1\");\n",
    "miLista.add(\"Elemento 2\");\n",
    "miLista.add(\"Elemento 3\");\n"
   ]
  },
  {
   "cell_type": "markdown",
   "metadata": {},
   "source": [
    "### Eliminar Elementos\n",
    "\n",
    "Para eliminar elementos de la lista, se usa el método `remove()`. Este método elimina la primera ocurrencia del elemento especificado de esta lista, si está presente."
   ]
  },
  {
   "cell_type": "code",
   "execution_count": null,
   "metadata": {},
   "outputs": [],
   "source": [
    "// Eliminar Elementos\n",
    "miLista.remove(\"Elemento 1\");"
   ]
  },
  {
   "cell_type": "markdown",
   "metadata": {},
   "source": [
    "### Buscar Elementos\n",
    "\n",
    "Para verificar si un elemento está presente en la lista, podemos usar el método `contains()`. Este método devuelve un valor booleano: `true` si la lista contiene el elemento especificado, `false` en caso contrario."
   ]
  },
  {
   "cell_type": "code",
   "execution_count": null,
   "metadata": {},
   "outputs": [],
   "source": [
    "// Buscar Elementos\n",
    "boolean existe = miLista.contains(\"Elemento 2\");\n",
    "existe"
   ]
  },
  {
   "cell_type": "markdown",
   "metadata": {},
   "source": [
    "## Ejemplo de Uso: Biblioteca\n",
    "\n",
    "Podemos usar LinkedList para almacenar una lista de libros en una biblioteca. Aquí, tomamos un fragmento del código previamente definido para la clase `Libro`.\n"
   ]
  },
  {
   "cell_type": "code",
   "execution_count": 2,
   "metadata": {},
   "outputs": [],
   "source": [
    "// Fragmento de la clase Libro\n",
    "public class Libro {\n",
    "    private String titulo;\n",
    "    private String ISBN;\n",
    "\n",
    "    public Libro(String titulo, String ISBN) {\n",
    "        this.titulo = titulo;\n",
    "        this.ISBN = ISBN;\n",
    "    }\n",
    "    \n",
    "    // ... métodos get y set\n",
    "    public String getTitulo() {\n",
    "        return titulo;\n",
    "    }\n",
    "}\n"
   ]
  },
  {
   "cell_type": "markdown",
   "metadata": {},
   "source": [
    "## Código Ejemplo: Utilizando Objetos Personalizados en LinkedList\n",
    "\n",
    "Hasta ahora, hemos trabajado con `LinkedList` utilizando tipos de datos primitivos como cadenas. Sin embargo, una de las ventajas de las listas en Java es que podemos almacenar objetos personalizados. En este ejemplo, vamos a trabajar con una `LinkedList` que almacena objetos de la clase `Libro`, que es una clase personalizada que hemos creado para este tutorial.\n",
    "\n",
    "Vamos a definir una `LinkedList` de tipo `<Libro>` y luego vamos a agregar un objeto de la clase `Libro` a la lista. Este ejemplo nos ayudará a entender cómo podemos usar `LinkedList` en aplicaciones más complejas y orientadas a objetos.\n"
   ]
  },
  {
   "cell_type": "code",
   "execution_count": 11,
   "metadata": {},
   "outputs": [
    {
     "data": {
      "text/plain": [
       "true"
      ]
     },
     "execution_count": 11,
     "metadata": {},
     "output_type": "execute_result"
    }
   ],
   "source": [
    "LinkedList<Libro> biblioteca = new LinkedList<>();\n",
    "Libro libro1 = new Libro(\"El Principito\", \"12345\");\n",
    "biblioteca.add(libro1);\n"
   ]
  },
  {
   "cell_type": "code",
   "execution_count": 15,
   "metadata": {},
   "outputs": [
    {
     "data": {
      "text/plain": [
       "true"
      ]
     },
     "execution_count": 15,
     "metadata": {},
     "output_type": "execute_result"
    }
   ],
   "source": [
    "biblioteca.add(libro1);"
   ]
  },
  {
   "cell_type": "markdown",
   "metadata": {},
   "source": [
    "## Código Ejemplo: Operaciones Avanzadas en LinkedList con Objetos\n",
    "\n",
    "Después de agregar objetos personalizados a nuestra `LinkedList`, ahora exploraremos algunas operaciones más avanzadas. Estas incluyen agregar un elemento en una posición específica y recuperar un elemento por su índice.\n",
    "\n",
    "### Agregar en una Posición Específica\n",
    "\n",
    "En una `LinkedList`, no estamos limitados a agregar elementos solo al final de la lista. Podemos insertar un elemento en una posición específica utilizando el método `add(index, element)`.\n",
    "\n",
    "### Obtener Elemento por Índice\n",
    "\n",
    "Para recuperar un elemento de una posición específica en la lista, utilizamos el método `get(index)`. Este método devuelve el elemento en la posición especificada en la lista.\n",
    "\n"
   ]
  },
  {
   "cell_type": "code",
   "execution_count": null,
   "metadata": {},
   "outputs": [],
   "source": [
    "// Agregar en una Posición Específica\n",
    "biblioteca.add(1, new Libro(\"1984\", \"67890\"));\n",
    "\n",
    "// Obtener Elemento por Índice\n",
    "Libro libro = biblioteca.get(0);\n",
    "System.out.println(libro.getTitulo());\n"
   ]
  },
  {
   "cell_type": "markdown",
   "metadata": {},
   "source": [
    "## Métodos para Iterar sobre una LinkedList en Java\n",
    "\n",
    "La estructura de datos `LinkedList` en Java ofrece múltiples enfoques para recorrer sus elementos, permitiendo flexibilidad según las necesidades del caso. A continuación, examinaremos las diferentes técnicas para iterar a través de una `LinkedList`, destacando sus ventajas y desventajas.\n"
   ]
  },
  {
   "cell_type": "markdown",
   "metadata": {},
   "source": [
    "### Usar un bucle `for-each` para Iterar\n",
    "\n",
    "El bucle `for-each` es el método más sencillo para iterar a través de todos los elementos de una `LinkedList`. Es fácil de usar y de leer, pero no ofrece mucha flexibilidad para modificar la lista durante la iteración.\n"
   ]
  },
  {
   "cell_type": "code",
   "execution_count": 16,
   "metadata": {},
   "outputs": [
    {
     "name": "stdout",
     "output_type": "stream",
     "text": [
      "El Principito\n",
      "El Principito\n",
      "El Principito\n",
      "El Principito\n",
      "El Principito\n"
     ]
    }
   ],
   "source": [
    "// Usando un for-each\n",
    "for (Libro libro : biblioteca) {\n",
    "    System.out.println(libro.getTitulo());\n",
    "}\n"
   ]
  },
  {
   "cell_type": "markdown",
   "metadata": {},
   "source": [
    "### Usar un Iterator para Iterar\n",
    "\n",
    "El `Iterator` ofrece más control durante la iteración, como la capacidad de eliminar elementos mientras se itera. No es tan limpio como un bucle `for-each`, pero es más flexible.\n"
   ]
  },
  {
   "cell_type": "code",
   "execution_count": null,
   "metadata": {},
   "outputs": [],
   "source": [
    "// Usando Iterator\n",
    "Iterator<Libro> iterator = biblioteca.iterator();\n",
    "while (iterator.hasNext()) {\n",
    "    Libro libro = iterator.next();\n",
    "    System.out.println(libro.getTitulo());\n",
    "    // Puede eliminar elementos también\n",
    "    // iterator.remove();\n",
    "}\n"
   ]
  },
  {
   "cell_type": "markdown",
   "metadata": {},
   "source": [
    "### Usar un bucle `for` tradicional con índices\n",
    "\n",
    "También puedes usar un bucle `for` tradicional con índices para iterar a través de la lista, aunque no es la forma más eficiente para `LinkedList` debido a su naturaleza de acceso secuencial.\n"
   ]
  },
  {
   "cell_type": "code",
   "execution_count": null,
   "metadata": {},
   "outputs": [],
   "source": [
    "// Usando un bucle for tradicional\n",
    "for (int i = 0; i < biblioteca.size(); i++) {\n",
    "    Libro libro = biblioteca.get(i);\n",
    "    System.out.println(libro.getTitulo());\n",
    "}\n"
   ]
  },
  {
   "cell_type": "markdown",
   "metadata": {},
   "source": [
    "## Desafíos\n",
    "\n",
    "Ahora que hemos visto cómo se pueden utilizar las `LinkedList` en Java, veamos algunos desafíos que puedes intentar resolver para obtener un mejor entendimiento de cómo trabajar con listas enlazadas en un contexto de aplicación real. Utilizaremos la clase `MaterialBibliografico` para estos desafíos.\n",
    "\n",
    "### Desafío 1: Implementar un método para encontrar un libro por su título\n",
    "\n",
    "Crear un método en la clase `MaterialBibliografico` que permita buscar un `Libro` en la `LinkedList` por su título y devuelva el objeto `Libro`.\n",
    "\n",
    "### Desafío 2: Implementar un método para eliminar un libro por su ISBN\n",
    "\n",
    "Crear un método que permita eliminar un Libro de la LinkedList utilizando su ISBN como referencia.\n",
    "\n",
    "### Desafío 3: Implementar un método para listar todos los libros de un autor específico\n",
    "\n",
    "Crear un método que devuelva una nueva LinkedList conteniendo todos los libros de un autor específico.\n",
    "\n",
    "### Desafío 4: Implementar un método para vaciar la biblioteca\n",
    "\n",
    "Crear un método que elimine todos los elementos de la LinkedList.\n",
    "\n",
    "### Desafío 5: Implementar un método para ordenar los libros por año de publicación\n",
    "\n",
    "Crear un método que ordene los libros en la LinkedList por su año de publicación.\n",
    "\n",
    "\n"
   ]
  }
 ],
 "metadata": {
  "kernelspec": {
   "display_name": "Java",
   "language": "java",
   "name": "java"
  },
  "language_info": {
   "codemirror_mode": "java",
   "file_extension": ".jshell",
   "mimetype": "text/x-java-source",
   "name": "java",
   "pygments_lexer": "java",
   "version": "11.0.20+8-post-Ubuntu-1ubuntu120.04"
  },
  "orig_nbformat": 4
 },
 "nbformat": 4,
 "nbformat_minor": 2
}
